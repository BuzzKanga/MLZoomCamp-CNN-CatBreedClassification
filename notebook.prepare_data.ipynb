{
 "cells": [
  {
   "cell_type": "markdown",
   "id": "9901fa82-046b-4a9d-b481-855a411d7042",
   "metadata": {},
   "source": [
    "# Prepare Data"
   ]
  },
  {
   "cell_type": "markdown",
   "id": "d5e33c32-644a-4371-83de-3a9289b31f98",
   "metadata": {},
   "source": [
    "***Load dataset***"
   ]
  },
  {
   "cell_type": "code",
   "execution_count": 1,
   "id": "d9d7ef34-8836-4647-90ae-e6a8f16e2678",
   "metadata": {
    "execution": {
     "iopub.execute_input": "2024-01-17T10:29:40.338167Z",
     "iopub.status.busy": "2024-01-17T10:29:40.337859Z",
     "iopub.status.idle": "2024-01-17T10:29:49.646265Z",
     "shell.execute_reply": "2024-01-17T10:29:49.645629Z",
     "shell.execute_reply.started": "2024-01-17T10:29:40.338145Z"
    },
    "tags": []
   },
   "outputs": [],
   "source": [
    "# kaggle dataset used = CatBreedsRefined-7k\n",
    "# https://www.kaggle.com/datasets/doctrinek/catbreedsrefined-7k\n",
    "\n",
    "#load dataset\n",
    "!pip install kaggle\n",
    "!mkdir ./data\n",
    "!kaggle datasets download -d doctrinek/catbreedsrefined-7k -p ./data\n",
    "\n",
    "# unzip dataset\n",
    "!unzip ./data/catbreedsrefined-7k.zip -d ./data\n",
    "\n",
    "# clean up by removing file no longer required\n",
    "!rm ./data/catbreedsrefined-7k.zip"
   ]
  },
  {
   "cell_type": "markdown",
   "id": "8087cccd-fee8-4986-ac2d-7636e494c287",
   "metadata": {},
   "source": [
    "***Split dataset into tran, validation and test datasets***"
   ]
  },
  {
   "cell_type": "code",
   "execution_count": 4,
   "id": "59421b1f-9638-4628-85c2-9ada7728bc40",
   "metadata": {
    "execution": {
     "iopub.execute_input": "2024-01-17T10:31:19.091169Z",
     "iopub.status.busy": "2024-01-17T10:31:19.090833Z",
     "iopub.status.idle": "2024-01-17T10:31:19.666112Z",
     "shell.execute_reply": "2024-01-17T10:31:19.665578Z",
     "shell.execute_reply.started": "2024-01-17T10:31:19.091142Z"
    },
    "tags": []
   },
   "outputs": [],
   "source": [
    "import os\n",
    "import shutil\n",
    "import random\n",
    "\n",
    "# Set the paths\n",
    "original_dataset_path = \"./data/CatBreedsRefined-v2\"\n",
    "train_dataset_path = \"./data/train\"\n",
    "valid_dataset_path = \"./data/validation\"\n",
    "test_dataset_path = \"./data/test\"\n",
    "\n",
    "# Create the directories if they don't exist\n",
    "os.makedirs(train_dataset_path, exist_ok=True)\n",
    "os.makedirs(valid_dataset_path, exist_ok=True)\n",
    "os.makedirs(test_dataset_path, exist_ok=True)\n",
    "\n",
    "# Get the list of folders in the original dataset\n",
    "folders = os.listdir(original_dataset_path)\n",
    "\n",
    "for folder in folders:\n",
    "    os.makedirs(os.path.join(train_dataset_path, folder), exist_ok=True)\n",
    "    os.makedirs(os.path.join(valid_dataset_path, folder), exist_ok=True)\n",
    "    os.makedirs(os.path.join(test_dataset_path, folder), exist_ok=True)\n",
    "\n",
    "# Iterate over each folder\n",
    "for folder in folders:\n",
    "    folder_path = os.path.join(original_dataset_path, folder)\n",
    "    files = os.listdir(folder_path)\n",
    "\n",
    "    # Shuffle the files randomly\n",
    "    random.shuffle(files)\n",
    "\n",
    "    # Calculate the split indices\n",
    "    train_split_index = int(0.6 * len(files))\n",
    "    valid_split_index = int(0.8 * len(files))\n",
    "\n",
    "    # Split the files into train, validation, and test datasets\n",
    "    train_files = files[:train_split_index]\n",
    "    valid_files = files[train_split_index:valid_split_index]\n",
    "    test_files = files[valid_split_index:]\n",
    "\n",
    "    # Move the files to the respective directories\n",
    "    for file in train_files:\n",
    "        src = os.path.join(folder_path, file)\n",
    "        dst = os.path.join(train_dataset_path, folder, file)\n",
    "        shutil.copyfile(src, dst)\n",
    "\n",
    "    for file in valid_files:\n",
    "        src = os.path.join(folder_path, file)\n",
    "        dst = os.path.join(valid_dataset_path, folder, file)\n",
    "        shutil.copyfile(src, dst)\n",
    "\n",
    "    for file in test_files:\n",
    "        src = os.path.join(folder_path, file)\n",
    "        dst = os.path.join(test_dataset_path, folder, file)\n",
    "        shutil.copyfile(src, dst)\n"
   ]
  },
  {
   "cell_type": "code",
   "execution_count": 5,
   "id": "412d1019-f61d-4ecc-8845-3ccbb2828c16",
   "metadata": {
    "execution": {
     "iopub.execute_input": "2024-01-17T10:32:11.894138Z",
     "iopub.status.busy": "2024-01-17T10:32:11.893565Z",
     "iopub.status.idle": "2024-01-17T10:32:12.609177Z",
     "shell.execute_reply": "2024-01-17T10:32:12.608461Z",
     "shell.execute_reply.started": "2024-01-17T10:32:11.894112Z"
    },
    "tags": []
   },
   "outputs": [],
   "source": [
    "# clean up by removing files no longer required\n",
    "!rm -r ./data/CatBreedsRefined-v2"
   ]
  }
 ],
 "metadata": {
  "kernelspec": {
   "display_name": "saturn (Python 3)",
   "language": "python",
   "name": "python3"
  },
  "language_info": {
   "codemirror_mode": {
    "name": "ipython",
    "version": 3
   },
   "file_extension": ".py",
   "mimetype": "text/x-python",
   "name": "python",
   "nbconvert_exporter": "python",
   "pygments_lexer": "ipython3",
   "version": "3.9.13"
  }
 },
 "nbformat": 4,
 "nbformat_minor": 5
}
