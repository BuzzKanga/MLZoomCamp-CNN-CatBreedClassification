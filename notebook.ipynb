{
 "cells": [
  {
   "cell_type": "markdown",
   "id": "7f4bea7e",
   "metadata": {},
   "source": [
    "# Prepare Data"
   ]
  },
  {
   "cell_type": "markdown",
   "id": "aad530ba-b578-4668-8cac-8c4c68ae7b00",
   "metadata": {},
   "source": [
    "***Import libraries required***"
   ]
  },
  {
   "cell_type": "code",
   "execution_count": null,
   "id": "56e98ed6-e395-44bb-a8b1-75e5728ef6b4",
   "metadata": {
    "tags": []
   },
   "outputs": [],
   "source": [
    "!pip install tensorflow"
   ]
  },
  {
   "cell_type": "code",
   "execution_count": 1,
   "id": "fa9b5006-2cc6-43d5-add8-b03b3e6c8ade",
   "metadata": {
    "execution": {
     "iopub.execute_input": "2024-01-16T22:42:00.000037Z",
     "iopub.status.busy": "2024-01-16T22:41:59.999528Z",
     "iopub.status.idle": "2024-01-16T22:42:00.006823Z",
     "shell.execute_reply": "2024-01-16T22:42:00.006026Z",
     "shell.execute_reply.started": "2024-01-16T22:41:59.999965Z"
    },
    "tags": []
   },
   "outputs": [],
   "source": [
    "# import libraries for file utilities\n",
    "import os\n",
    "import zipfile"
   ]
  },
  {
   "cell_type": "code",
   "execution_count": 2,
   "id": "e12ac2a0",
   "metadata": {
    "execution": {
     "iopub.execute_input": "2024-01-16T22:42:00.008572Z",
     "iopub.status.busy": "2024-01-16T22:42:00.008271Z",
     "iopub.status.idle": "2024-01-16T22:42:00.644031Z",
     "shell.execute_reply": "2024-01-16T22:42:00.643401Z",
     "shell.execute_reply.started": "2024-01-16T22:42:00.008550Z"
    },
    "tags": []
   },
   "outputs": [],
   "source": [
    "# import standard ml libraries \n",
    "import numpy as np\n",
    "import matplotlib.pyplot as plt\n",
    "\n",
    "%matplotlib inline"
   ]
  },
  {
   "cell_type": "code",
   "execution_count": 3,
   "id": "54f76603",
   "metadata": {
    "execution": {
     "iopub.execute_input": "2024-01-16T22:42:00.645275Z",
     "iopub.status.busy": "2024-01-16T22:42:00.644919Z",
     "iopub.status.idle": "2024-01-16T22:42:00.648765Z",
     "shell.execute_reply": "2024-01-16T22:42:00.647974Z",
     "shell.execute_reply.started": "2024-01-16T22:42:00.645252Z"
    },
    "tags": []
   },
   "outputs": [],
   "source": [
    "# tensorflow/core/util/util.cc:169] oneDNN custom operations are on by default\n",
    "# May result in slightly different numerical results due to floating-point round-off errors from different computation orders. \n",
    "# Setting the environment variable TF_ENABLE_ONEDNN_OPTS=0 to turn them off.\n",
    "# os.environ['TF_ENABLE_ONEDNN_OPTS'] = '0'"
   ]
  },
  {
   "cell_type": "code",
   "execution_count": 4,
   "id": "a1d7e4d8",
   "metadata": {
    "execution": {
     "iopub.execute_input": "2024-01-16T22:42:00.649813Z",
     "iopub.status.busy": "2024-01-16T22:42:00.649620Z",
     "iopub.status.idle": "2024-01-16T22:42:02.072652Z",
     "shell.execute_reply": "2024-01-16T22:42:02.071996Z",
     "shell.execute_reply.started": "2024-01-16T22:42:00.649795Z"
    },
    "tags": []
   },
   "outputs": [
    {
     "name": "stderr",
     "output_type": "stream",
     "text": [
      "2024-01-16 22:42:00.742961: I tensorflow/stream_executor/platform/default/dso_loader.cc:49] Successfully opened dynamic library libcudart.so.10.1\n"
     ]
    }
   ],
   "source": [
    "import tensorflow as tf\n",
    "from tensorflow import keras"
   ]
  },
  {
   "cell_type": "code",
   "execution_count": 5,
   "id": "a7e6fb00",
   "metadata": {
    "execution": {
     "iopub.execute_input": "2024-01-16T22:42:02.074532Z",
     "iopub.status.busy": "2024-01-16T22:42:02.074037Z",
     "iopub.status.idle": "2024-01-16T22:42:02.080063Z",
     "shell.execute_reply": "2024-01-16T22:42:02.079502Z",
     "shell.execute_reply.started": "2024-01-16T22:42:02.074506Z"
    },
    "tags": []
   },
   "outputs": [],
   "source": [
    "# library to load images\n",
    "from tensorflow.keras.preprocessing.image import load_img"
   ]
  },
  {
   "cell_type": "code",
   "execution_count": 6,
   "id": "3881f2ec-1044-458c-b1db-386c3b7adaf4",
   "metadata": {
    "execution": {
     "iopub.execute_input": "2024-01-16T22:42:02.081294Z",
     "iopub.status.busy": "2024-01-16T22:42:02.081005Z",
     "iopub.status.idle": "2024-01-16T22:42:02.085266Z",
     "shell.execute_reply": "2024-01-16T22:42:02.084554Z",
     "shell.execute_reply.started": "2024-01-16T22:42:02.081267Z"
    },
    "tags": []
   },
   "outputs": [],
   "source": [
    "# library to import Xception CNN\n",
    "from tensorflow.keras.applications.xception import Xception\n",
    "from tensorflow.keras.applications.xception import preprocess_input\n",
    "from tensorflow.keras.applications.xception import decode_predictions"
   ]
  },
  {
   "cell_type": "markdown",
   "id": "a4980629",
   "metadata": {},
   "source": [
    "## Import"
   ]
  },
  {
   "cell_type": "code",
   "execution_count": null,
   "id": "840acb65-080e-4dfa-906d-2b69574f2281",
   "metadata": {
    "tags": []
   },
   "outputs": [],
   "source": [
    "# copy data zip file to /data folder and unzip it \n",
    "zip_path = './data/catbreeds_data.zip'\n",
    "extract_path = './data/'\n",
    "# Check if the folder already exists\n",
    "if not os.path.exists(extract_path):\n",
    "    with zipfile.ZipFile(zip_path, 'r') as zip_ref:\n",
    "        zip_ref.extractall(extract_path)\n",
    "        print(\"Data files extracted successfully from zip file.\")\n",
    "else:\n",
    "    print(\"Folder already exists. Skipping data extraction.\")"
   ]
  },
  {
   "cell_type": "markdown",
   "id": "0636cd33",
   "metadata": {},
   "source": [
    "## Explore"
   ]
  },
  {
   "cell_type": "code",
   "execution_count": null,
   "id": "2f938d77-f551-4fe0-aa1a-5724f6ce89f2",
   "metadata": {
    "tags": []
   },
   "outputs": [],
   "source": [
    "# check that an image can be loaded\n",
    "path = './data/train/Abyssinian'\n",
    "name = 'Abyssinian_100.jpg'\n",
    "fullname = f'{path}/{name}'\n",
    "img = load_img(fullname, target_size=(299, 299))\n",
    "img"
   ]
  },
  {
   "cell_type": "code",
   "execution_count": null,
   "id": "bc88474e-23b1-4e16-8d22-81d863fe8895",
   "metadata": {
    "tags": []
   },
   "outputs": [],
   "source": [
    "x = np.array(img)\n",
    "x.shape"
   ]
  },
  {
   "cell_type": "markdown",
   "id": "d983dbb0",
   "metadata": {},
   "source": [
    "## Split"
   ]
  },
  {
   "cell_type": "markdown",
   "id": "9b8a60de",
   "metadata": {},
   "source": [
    "# Build Model"
   ]
  },
  {
   "cell_type": "markdown",
   "id": "8f3a5d66",
   "metadata": {},
   "source": [
    "## Baseline"
   ]
  },
  {
   "cell_type": "markdown",
   "id": "37132c48-72c9-432a-9a8e-ce2b81559185",
   "metadata": {},
   "source": [
    "***Use Xception model as baseline***"
   ]
  },
  {
   "cell_type": "code",
   "execution_count": null,
   "id": "41c2173d-e409-43d3-b5c3-0957d491d524",
   "metadata": {
    "tags": []
   },
   "outputs": [],
   "source": [
    "model = Xception(weights='imagenet', input_shape=(299, 299, 3))"
   ]
  },
  {
   "cell_type": "code",
   "execution_count": null,
   "id": "c611a15a-b6b8-46ca-9a54-e9c0be975136",
   "metadata": {
    "tags": []
   },
   "outputs": [],
   "source": [
    "X = np.array([x])"
   ]
  },
  {
   "cell_type": "code",
   "execution_count": null,
   "id": "696698af-dc05-4eaf-a1dc-26ecb0fb5e33",
   "metadata": {
    "tags": []
   },
   "outputs": [],
   "source": [
    "X.shape"
   ]
  },
  {
   "cell_type": "code",
   "execution_count": null,
   "id": "32f2878e-c03e-45a3-aeb4-5fc1418b92f7",
   "metadata": {
    "tags": []
   },
   "outputs": [],
   "source": [
    "X = preprocess_input(X)\n",
    "X[0]"
   ]
  },
  {
   "cell_type": "code",
   "execution_count": null,
   "id": "0ee0162d-f8b1-44c5-90f1-e6d4fe90bf04",
   "metadata": {
    "tags": []
   },
   "outputs": [],
   "source": [
    "pred = model.predict(X)"
   ]
  },
  {
   "cell_type": "code",
   "execution_count": null,
   "id": "72bef96f-a813-43cb-9879-dae5e2943377",
   "metadata": {
    "tags": []
   },
   "outputs": [],
   "source": [
    "pred.shape"
   ]
  },
  {
   "cell_type": "code",
   "execution_count": null,
   "id": "c858b635-e917-47a2-934a-00500441951b",
   "metadata": {
    "tags": []
   },
   "outputs": [],
   "source": [
    "decode_predictions(pred)"
   ]
  },
  {
   "cell_type": "markdown",
   "id": "cddaf982-cdc2-43cf-8439-59d3136898f6",
   "metadata": {},
   "source": [
    "***Load images and train models***"
   ]
  },
  {
   "cell_type": "code",
   "execution_count": null,
   "id": "cc1aa908-fd31-4e0a-9a17-e37194be9196",
   "metadata": {
    "tags": []
   },
   "outputs": [],
   "source": [
    "from tensorflow.keras.preprocessing.image import ImageDataGenerator"
   ]
  },
  {
   "cell_type": "code",
   "execution_count": null,
   "id": "2eec0f77-8a97-48b2-a10c-5ebba0b02295",
   "metadata": {
    "tags": []
   },
   "outputs": [],
   "source": [
    "# run model using train data\n",
    "train_gen = ImageDataGenerator(preprocessing_function=preprocess_input)\n",
    "train_ds = train_gen.flow_from_directory(\n",
    "    './data/train/',\n",
    "    target_size=(150, 150),\n",
    "    batch_size=32\n",
    ")"
   ]
  },
  {
   "cell_type": "code",
   "execution_count": null,
   "id": "bb5fdaca-5284-49cb-a03f-dce7bec915b7",
   "metadata": {
    "tags": []
   },
   "outputs": [],
   "source": [
    "# display classes\n",
    "train_ds.class_indices"
   ]
  },
  {
   "cell_type": "code",
   "execution_count": null,
   "id": "804e70b4-4dd6-4ca0-b287-1e3a7b685cd1",
   "metadata": {
    "tags": []
   },
   "outputs": [],
   "source": [
    "# run model using validation data\n",
    "val_gen = ImageDataGenerator(preprocessing_function=preprocess_input)\n",
    "\n",
    "val_ds = val_gen.flow_from_directory(\n",
    "    './data/validation/',\n",
    "    target_size=(150, 150),\n",
    "    batch_size=32,\n",
    "    shuffle=False\n",
    ")"
   ]
  },
  {
   "cell_type": "code",
   "execution_count": null,
   "id": "c9e1b33e-5481-43e4-ac4b-254f7e8c8c98",
   "metadata": {
    "tags": []
   },
   "outputs": [],
   "source": [
    "train_ds.class_indices"
   ]
  },
  {
   "cell_type": "markdown",
   "id": "996fe415-06c8-4d57-be10-3d41a5bc5356",
   "metadata": {
    "execution": {
     "iopub.execute_input": "2024-01-04T11:15:47.745268Z",
     "iopub.status.busy": "2024-01-04T11:15:47.744839Z",
     "iopub.status.idle": "2024-01-04T11:15:50.892591Z",
     "shell.execute_reply": "2024-01-04T11:15:50.891863Z",
     "shell.execute_reply.started": "2024-01-04T11:15:47.745243Z"
    },
    "tags": []
   },
   "source": [
    "***Create base model***"
   ]
  },
  {
   "cell_type": "code",
   "execution_count": null,
   "id": "887edc14-6bf5-4390-bbb7-7b6790cff248",
   "metadata": {
    "tags": []
   },
   "outputs": [],
   "source": [
    "# create convolutional layers\n",
    "base_model = Xception(weights='imagenet',\n",
    "    include_top=False,\n",
    "    input_shape=(150, 150, 3)\n",
    ")\n",
    "\n",
    "# set trainable to flase as we want to use existing model\n",
    "base_model.trainable = False\n",
    "\n",
    "# define model layers\n",
    "inputs = keras.Input(shape=(150, 150, 3))\n",
    "\n",
    "base = base_model(inputs, training=False)\n",
    "\n",
    "vectors = keras.layers.GlobalAveragePooling2D() (base)\n",
    "\n",
    "outputs = keras.layers.Dense(20) (vectors)\n",
    "\n",
    "model = keras.Model(inputs, outputs)"
   ]
  },
  {
   "cell_type": "code",
   "execution_count": null,
   "id": "4e41e5f5-8bb3-4a3a-9c5e-a621030a5090",
   "metadata": {
    "tags": []
   },
   "outputs": [],
   "source": [
    "# Set-up X (cat whose breeds needs to be identified)\n",
    "path = './data/train/Abyssinian'\n",
    "name = 'Abyssinian_100.jpg'\n",
    "fullname = f'{path}/{name}'\n",
    "img = load_img(fullname, target_size=(150, 150))\n",
    "x = np.array(img)\n",
    "X = np.array([x])\n",
    "X.shape"
   ]
  },
  {
   "cell_type": "code",
   "execution_count": null,
   "id": "d19c5ea0-436f-48e6-8c71-da49d3cadfd6",
   "metadata": {
    "tags": []
   },
   "outputs": [],
   "source": [
    "preds = model.predict(X)"
   ]
  },
  {
   "cell_type": "code",
   "execution_count": null,
   "id": "31943ec9-1a61-4e0b-b701-c2fc7224f8ce",
   "metadata": {
    "tags": []
   },
   "outputs": [],
   "source": [
    "learning_rate = 0.01\n",
    "optimizer = keras.optimizers.Adam(learning_rate=learning_rate)\n",
    "\n",
    "loss = keras.losses.CategoricalCrossentropy(from_logits=True)\n",
    "\n",
    "model.compile(optimizer=optimizer, loss=loss, metrics=['accuracy'])"
   ]
  },
  {
   "cell_type": "code",
   "execution_count": null,
   "id": "a087f28e-0430-45fa-aaf5-ce44b8ae6237",
   "metadata": {
    "tags": []
   },
   "outputs": [],
   "source": [
    "base_history = model.fit(train_ds, epochs=10, validation_data=val_ds)"
   ]
  },
  {
   "cell_type": "code",
   "execution_count": null,
   "id": "935b7e25-b5f5-4edf-a28c-1bedde0591d5",
   "metadata": {
    "tags": []
   },
   "outputs": [],
   "source": [
    "# plot training accuracy vs validation accuracy\n",
    "plt.plot(base_history.history['accuracy'], label='train')\n",
    "plt.plot(base_history.history['val_accuracy'], label='val')\n",
    "\n",
    "plt.xticks(np.arange(10))\n",
    "plt.legend()"
   ]
  },
  {
   "cell_type": "code",
   "execution_count": null,
   "id": "a6a3f0b1-1caf-4c6d-8920-0958e9c32b31",
   "metadata": {
    "tags": []
   },
   "outputs": [],
   "source": [
    "# plot training loss vs validation loss\n",
    "plt.plot(base_history.history['loss'], label='loss')\n",
    "plt.plot(base_history.history['val_loss'], label='val_loss')\n",
    "\n",
    "plt.xticks(np.arange(10))\n",
    "plt.legend()"
   ]
  },
  {
   "cell_type": "markdown",
   "id": "392a9018",
   "metadata": {},
   "source": [
    "## Iterate"
   ]
  },
  {
   "cell_type": "markdown",
   "id": "c2ced9c0-f079-49f4-aec7-8e74fbe1ab40",
   "metadata": {},
   "source": [
    "***Iteration 1: Adjust the learning rate***"
   ]
  },
  {
   "cell_type": "code",
   "execution_count": null,
   "id": "79a5c364-da83-4412-a8f7-2c2b34431538",
   "metadata": {
    "tags": []
   },
   "outputs": [],
   "source": [
    "def make_model(learning_rate):\n",
    "    base_model = Xception(\n",
    "        weights='imagenet',\n",
    "        include_top=False,\n",
    "        input_shape=(150, 150, 3)\n",
    "    )\n",
    "\n",
    "    base_model.trainable = False\n",
    "\n",
    "    # define model architecture\n",
    "    inputs = keras.Input(shape=(150, 150, 3))\n",
    "    base = base_model(inputs, training=False)\n",
    "    vectors = keras.layers.GlobalAveragePooling2D()(base)\n",
    "    outputs = keras.layers.Dense(20)(vectors)\n",
    "    model = keras.Model(inputs, outputs)\n",
    "    \n",
    "    optimizer = keras.optimizers.Adam(learning_rate=learning_rate)\n",
    "    loss = keras.losses.CategoricalCrossentropy(from_logits=True)\n",
    "\n",
    "    model.compile(\n",
    "        optimizer=optimizer,\n",
    "        loss=loss,\n",
    "        metrics=['accuracy']\n",
    "    )\n",
    "    \n",
    "    return model"
   ]
  },
  {
   "cell_type": "code",
   "execution_count": null,
   "id": "377c9b4c-19df-4206-9fee-6ed689d1d066",
   "metadata": {
    "tags": []
   },
   "outputs": [],
   "source": [
    "scores = {}\n",
    "for lr in [0.0001, 0.001, 0.01, 0.1]:\n",
    "    print(lr)\n",
    "    \n",
    "    model = make_model(learning_rate=lr)\n",
    "    history = model.fit(train_ds, epochs=10, validation_data=val_ds)\n",
    "    scores[lr] = history.history\n",
    "    \n",
    "    print()\n",
    "    print()\n",
    "    "
   ]
  },
  {
   "cell_type": "code",
   "execution_count": null,
   "id": "be06445e-f694-4a21-949a-e1a14ff56154",
   "metadata": {
    "tags": []
   },
   "outputs": [],
   "source": [
    "for lr, hist in scores.items():\n",
    "    plt.plot(hist['accuracy'], label=lr)\n",
    "    \n",
    "plt.xticks(np.arange(10))\n",
    "plt.legend()"
   ]
  },
  {
   "cell_type": "code",
   "execution_count": null,
   "id": "c21b6c9f-8858-48de-8a48-1178017c9304",
   "metadata": {
    "tags": []
   },
   "outputs": [],
   "source": [
    "# plot training loss \n",
    "for lr, hist in scores.items():\n",
    "    plt.plot(hist['loss'], label=lr)\n",
    "\n",
    "plt.xticks(np.arange(10))\n",
    "plt.legend()"
   ]
  },
  {
   "cell_type": "code",
   "execution_count": null,
   "id": "5879e2f1-73c8-4079-8cae-9dbf69ea85d8",
   "metadata": {
    "tags": []
   },
   "outputs": [],
   "source": [
    "for lr, hist in scores.items():\n",
    "    plt.plot(hist['val_accuracy'], label=lr)\n",
    "    \n",
    "plt.xticks(np.arange(10))\n",
    "plt.legend()"
   ]
  },
  {
   "cell_type": "code",
   "execution_count": null,
   "id": "c15e638e-b00f-4317-aae9-faf50a5ed319",
   "metadata": {},
   "outputs": [],
   "source": [
    "# plot training loss \n",
    "for lr, hist in scores.items():\n",
    "    plt.plot(hist['val_loss'], label=lr)\n",
    "\n",
    "plt.xticks(np.arange(10))\n",
    "plt.legend()"
   ]
  },
  {
   "cell_type": "code",
   "execution_count": null,
   "id": "28e0c426-64a6-4a35-a748-375ca8287514",
   "metadata": {
    "tags": []
   },
   "outputs": [],
   "source": [
    "learning_rate = 0.001\n",
    "print(f\"Best learning rate: {learning_rate}\")"
   ]
  },
  {
   "cell_type": "markdown",
   "id": "17a49b0c-e5e9-4b1a-a64f-ca6371cf446b",
   "metadata": {
    "execution": {
     "iopub.execute_input": "2024-01-07T07:54:35.804038Z",
     "iopub.status.busy": "2024-01-07T07:54:35.803560Z",
     "iopub.status.idle": "2024-01-07T07:54:35.812487Z",
     "shell.execute_reply": "2024-01-07T07:54:35.811388Z",
     "shell.execute_reply.started": "2024-01-07T07:54:35.803963Z"
    },
    "tags": []
   },
   "source": [
    "***Iteration 2: implement callbacks to save best model***"
   ]
  },
  {
   "cell_type": "code",
   "execution_count": null,
   "id": "fe3a5a06-a4e4-4aef-8869-07caba0ad320",
   "metadata": {
    "tags": []
   },
   "outputs": [],
   "source": [
    "model.save_weights('model_v1.h5', save_format='h5')"
   ]
  },
  {
   "cell_type": "code",
   "execution_count": null,
   "id": "01c96a0c-05ab-458d-a34c-ab4a0dcd9053",
   "metadata": {
    "tags": []
   },
   "outputs": [],
   "source": [
    "checkpoint = keras.callbacks.ModelCheckpoint(\n",
    "    'xception_v2_{epoch:02d}_{val_accuracy:.3f}.h5',\n",
    "    save_best_only=True,\n",
    "    monitor='val_accuracy',\n",
    "    mode='max'\n",
    ")   "
   ]
  },
  {
   "cell_type": "code",
   "execution_count": null,
   "id": "315c0c89-99f5-4348-8df5-849bd767a7bf",
   "metadata": {
    "tags": []
   },
   "outputs": [],
   "source": [
    "model = make_model(learning_rate=learning_rate)\n",
    "\n",
    "history = model.fit(\n",
    "    train_ds, \n",
    "    epochs=10, \n",
    "    validation_data=val_ds\n",
    "#    callbacks=[checkpoint]\n",
    ")"
   ]
  },
  {
   "cell_type": "markdown",
   "id": "0bbd2ad0-f707-4cce-99ca-72fbcf30fe3c",
   "metadata": {},
   "source": [
    "***Iteration 3: Add more layers to model***"
   ]
  },
  {
   "cell_type": "code",
   "execution_count": null,
   "id": "3f3df480-6450-49e4-aeac-eb9aa1a40260",
   "metadata": {
    "tags": []
   },
   "outputs": [],
   "source": [
    "def make_model(learning_rate, size_inner):\n",
    "    base_model = Xception(\n",
    "        weights='imagenet',\n",
    "        include_top=False,\n",
    "        input_shape=(150, 150, 3)\n",
    "    )\n",
    "\n",
    "    base_model.trainable = False\n",
    "\n",
    "    # define model architecture\n",
    "    inputs = keras.Input(shape=(150, 150, 3))\n",
    "    base = base_model(inputs, training=False)\n",
    "    vectors = keras.layers.GlobalAveragePooling2D()(base)\n",
    "    inner = keras.layers.Dense(size_inner, activation='relu')(vectors)\n",
    "    outputs = keras.layers.Dense(20)(inner)\n",
    "    model = keras.Model(inputs, outputs)\n",
    "    \n",
    "    optimizer = keras.optimizers.Adam(learning_rate=learning_rate)\n",
    "    loss = keras.losses.CategoricalCrossentropy(from_logits=True)\n",
    "\n",
    "    model.compile(\n",
    "        optimizer=optimizer,\n",
    "        loss=loss,\n",
    "        metrics=['accuracy']\n",
    "    )\n",
    "    \n",
    "    return model"
   ]
  },
  {
   "cell_type": "code",
   "execution_count": null,
   "id": "4cce358f-350b-4b35-b489-5fc8374fccb7",
   "metadata": {
    "tags": []
   },
   "outputs": [],
   "source": [
    "checkpoint = keras.callbacks.ModelCheckpoint(\n",
    "    'xception_v3_{epoch:02d}_{val_accuracy:.3f}.h5',\n",
    "    save_best_only=True,\n",
    "    monitor='val_accuracy',\n",
    "    mode='max'\n",
    ")"
   ]
  },
  {
   "cell_type": "code",
   "execution_count": null,
   "id": "bcefc2be-5cd1-449c-a427-e072f813a090",
   "metadata": {
    "tags": []
   },
   "outputs": [],
   "source": [
    "learning_rate = 0.001\n",
    "\n",
    "scores = {}\n",
    "\n",
    "for size in [10, 100, 500, 1000]:\n",
    "    print(size)\n",
    "    \n",
    "    model = make_model(learning_rate=learning_rate, size_inner=size)\n",
    "    history = model.fit(\n",
    "        train_ds, \n",
    "        epochs=10, \n",
    "        validation_data=val_ds \n",
    "#        callbacks=[checkpoint]\n",
    "    )\n",
    "    scores[size] = history.history\n",
    "    \n",
    "    print()\n",
    "    print()"
   ]
  },
  {
   "cell_type": "code",
   "execution_count": null,
   "id": "463a6837-921a-4786-b13b-a27236387159",
   "metadata": {
    "tags": []
   },
   "outputs": [],
   "source": [
    "for size, hist in scores.items():\n",
    "    plt.plot(hist['accuracy'], label=size)\n",
    "    \n",
    "plt.xticks(np.arange(10))\n",
    "plt.legend()"
   ]
  },
  {
   "cell_type": "code",
   "execution_count": null,
   "id": "95e073da-f41e-49ea-b529-f812763be683",
   "metadata": {
    "tags": []
   },
   "outputs": [],
   "source": [
    "# plot training loss \n",
    "for size, hist in scores.items():\n",
    "    plt.plot(hist['loss'], label=size)\n",
    "\n",
    "plt.xticks(np.arange(10))\n",
    "plt.legend()"
   ]
  },
  {
   "cell_type": "code",
   "execution_count": null,
   "id": "404c2685-0725-438c-8297-a3204d3948ee",
   "metadata": {
    "tags": []
   },
   "outputs": [],
   "source": [
    "for size, hist in scores.items():\n",
    "    plt.plot(hist['val_accuracy'], label=size)\n",
    "    \n",
    "plt.xticks(np.arange(10))\n",
    "plt.legend()"
   ]
  },
  {
   "cell_type": "code",
   "execution_count": null,
   "id": "913e8e09-eca6-4a61-a1ef-26d051562774",
   "metadata": {
    "tags": []
   },
   "outputs": [],
   "source": [
    "scores[100]['val_accuracy']"
   ]
  },
  {
   "cell_type": "code",
   "execution_count": null,
   "id": "fa47346a-4d95-4b22-a492-81e9dfff0d43",
   "metadata": {
    "tags": []
   },
   "outputs": [],
   "source": [
    "# plot training loss \n",
    "for size, hist in scores.items():\n",
    "    plt.plot(hist['val_loss'], label=size)\n",
    "\n",
    "plt.xticks(np.arange(10))\n",
    "plt.legend()"
   ]
  },
  {
   "cell_type": "code",
   "execution_count": null,
   "id": "15dcc33e-2fed-434d-95e3-769d77bd439a",
   "metadata": {
    "tags": []
   },
   "outputs": [],
   "source": [
    "best_size = 1000\n",
    "print(f\"Best size for additional layer: {best_size}\")"
   ]
  },
  {
   "cell_type": "markdown",
   "id": "1aa36f5b-01b6-425b-964d-73096c65d6aa",
   "metadata": {},
   "source": [
    "***Iteration 4: Dropout and regularisation***"
   ]
  },
  {
   "cell_type": "code",
   "execution_count": null,
   "id": "4d289ab3-5d08-4bd9-9ed6-d3b20beee321",
   "metadata": {},
   "outputs": [],
   "source": [
    "def make_model(learning_rate, size_inner, droprate=0.5):\n",
    "    base_model = Xception(\n",
    "        weights='imagenet',\n",
    "        include_top=False,\n",
    "        input_shape=(150, 150, 3)\n",
    "    )\n",
    "\n",
    "    base_model.trainable = False\n",
    "\n",
    "    # define model architecture\n",
    "    inputs = keras.Input(shape=(150, 150, 3))\n",
    "    base = base_model(inputs, training=False)\n",
    "    vectors = keras.layers.GlobalAveragePooling2D()(base)\n",
    "    inner = keras.layers.Dense(size_inner, activation='relu')(vectors)\n",
    "    drop = keras.layers.Dropout(droprate)(inner)\n",
    "    outputs = keras.layers.Dense(20)(drop)\n",
    "    model = keras.Model(inputs, outputs)\n",
    "    \n",
    "    optimizer = keras.optimizers.Adam(learning_rate=learning_rate)\n",
    "    loss = keras.losses.CategoricalCrossentropy(from_logits=True)\n",
    "\n",
    "    model.compile(\n",
    "        optimizer=optimizer,\n",
    "        loss=loss,\n",
    "        metrics=['accuracy']\n",
    "    )\n",
    "    \n",
    "    return model"
   ]
  },
  {
   "cell_type": "code",
   "execution_count": null,
   "id": "cf0baa66-e09d-4eb7-bbc5-825c46b0aa55",
   "metadata": {
    "tags": []
   },
   "outputs": [],
   "source": [
    "learning_rate = 0.001\n",
    "size_inner = 1000\n",
    "\n",
    "scores = {}\n",
    "\n",
    "for droprate in [0.0, 0.2, 0.5, 0.8]:\n",
    "    print(droprate)\n",
    "    \n",
    "    model = make_model(\n",
    "        learning_rate=learning_rate, \n",
    "        size_inner=size,\n",
    "        droprate=droprate\n",
    "    )\n",
    "    \n",
    "    history = model.fit(\n",
    "        train_ds, \n",
    "        epochs=30, \n",
    "        validation_data=val_ds \n",
    "#        callbacks=[checkpoint]\n",
    "    )\n",
    "    scores[droprate] = history.history\n",
    "    \n",
    "    print()\n",
    "    print()"
   ]
  },
  {
   "cell_type": "code",
   "execution_count": null,
   "id": "957748cb-b73f-4858-915d-e273c0235aba",
   "metadata": {
    "tags": []
   },
   "outputs": [],
   "source": [
    "for droprate, hist in scores.items():\n",
    "    plt.plot(hist['accuracy'], label='val=%s' % droprate)\n",
    "    \n",
    "plt.xticks(np.arange(10))\n",
    "plt.legend()"
   ]
  },
  {
   "cell_type": "code",
   "execution_count": null,
   "id": "9fcdedc8-b29e-4eab-bb9f-703c6911cda5",
   "metadata": {
    "tags": []
   },
   "outputs": [],
   "source": [
    "# plot training loss \n",
    "for droprate, hist in scores.items():\n",
    "    plt.plot(hist['loss'], label='val=%s' % droprate)\n",
    "\n",
    "plt.xticks(np.arange(10))\n",
    "plt.legend()"
   ]
  },
  {
   "cell_type": "code",
   "execution_count": null,
   "id": "d642b9b1-5113-416a-bf28-67cc30ca90aa",
   "metadata": {
    "tags": []
   },
   "outputs": [],
   "source": [
    "for droprate, hist in scores.items():\n",
    "    plt.plot(hist['val_accuracy'], label='val=%s' % droprate)\n",
    "    \n",
    "plt.xticks(np.arange(10))\n",
    "plt.legend()"
   ]
  },
  {
   "cell_type": "code",
   "execution_count": null,
   "id": "c5392ab0-05ef-414b-b2bc-37a42596a829",
   "metadata": {
    "tags": []
   },
   "outputs": [],
   "source": [
    "# plot training loss \n",
    "for droprate, hist in scores.items():\n",
    "    plt.plot(hist['val_loss'], label='val=%s' % droprate)\n",
    "\n",
    "plt.xticks(np.arange(10))\n",
    "plt.legend()"
   ]
  },
  {
   "cell_type": "code",
   "execution_count": null,
   "id": "738185d4-f8dc-410d-ab0e-7dac2e23dcea",
   "metadata": {
    "tags": []
   },
   "outputs": [],
   "source": [
    "# droprate = 1000\n",
    "# print(f\"Best size for additional layer: {best_size}\")"
   ]
  },
  {
   "cell_type": "code",
   "execution_count": null,
   "id": "4a7342bb-966a-47c4-880a-010b14795324",
   "metadata": {
    "tags": []
   },
   "outputs": [],
   "source": [
    "# # Unit test\n",
    "# scores = {}\n",
    "\n",
    "# for size in [10]:\n",
    "#     print(size)\n",
    "    \n",
    "#     model = make_model(learning_rate=learning_rate, size_inner=size)\n",
    "#     history = model.fit(\n",
    "#         train_ds, \n",
    "#         epochs=2, \n",
    "#         validation_data=val_ds, \n",
    "#         callbacks=[checkpoint]\n",
    "#     )\n",
    "#     scores[size] = history.history\n",
    "    \n",
    "#     print()\n",
    "#     print()"
   ]
  },
  {
   "cell_type": "code",
   "execution_count": null,
   "id": "881969b4-d34e-430b-8a52-a474b4722b3e",
   "metadata": {
    "tags": []
   },
   "outputs": [],
   "source": [
    "scores"
   ]
  },
  {
   "cell_type": "markdown",
   "id": "65e871e7-a88e-4fc3-b8ec-b2d99922be78",
   "metadata": {},
   "source": [
    "***Iteration 5: Save model created with best hyperparemeters*** "
   ]
  },
  {
   "cell_type": "code",
   "execution_count": null,
   "id": "92410c96-e0b5-4510-a207-f1fd5b0526af",
   "metadata": {
    "tags": []
   },
   "outputs": [],
   "source": [
    "learning_rate = 0.001\n",
    "size_inner = 1000\n",
    "droprate = 0.8\n",
    "epochs = 10\n",
    "\n",
    "model = make_model(\n",
    "    learning_rate=learning_rate, \n",
    "    size_inner=size,\n",
    "    droprate=droprate\n",
    ")\n",
    "    \n",
    "history = model.fit(\n",
    "    train_ds, \n",
    "    epochs=epochs, \n",
    "    validation_data=val_ds, \n",
    "    callbacks=[checkpoint]\n",
    ")"
   ]
  },
  {
   "cell_type": "markdown",
   "id": "41057f15-9461-44e2-9f99-9d2619302a22",
   "metadata": {},
   "source": [
    "***Use the saved model***"
   ]
  },
  {
   "cell_type": "code",
   "execution_count": null,
   "id": "30408839-80df-4e91-a1c4-d890ff0f07e0",
   "metadata": {
    "tags": []
   },
   "outputs": [],
   "source": [
    "model = keras.models.load_model(\"xception_v3_10_0.609.h5\")"
   ]
  },
  {
   "cell_type": "code",
   "execution_count": null,
   "id": "e2fb12dc-9b1c-48b7-8e2b-7b6007946ebf",
   "metadata": {
    "tags": []
   },
   "outputs": [],
   "source": [
    "# run model using test data\n",
    "test_gen = ImageDataGenerator(preprocessing_function=preprocess_input)\n",
    "\n",
    "test_ds = val_gen.flow_from_directory(\n",
    "    './data/test/',\n",
    "    target_size=(150, 150),\n",
    "    batch_size=32,\n",
    "    shuffle=False\n",
    ")"
   ]
  },
  {
   "cell_type": "code",
   "execution_count": null,
   "id": "6133a30e-9c50-43de-9d69-8da1e99f44e3",
   "metadata": {
    "tags": []
   },
   "outputs": [],
   "source": [
    "# evaluate test data set using evaluate function\n",
    "model.evaluate(test_ds)"
   ]
  },
  {
   "cell_type": "code",
   "execution_count": null,
   "id": "7fba1183-ec27-4e5a-8d27-e9872a1e161a",
   "metadata": {
    "tags": []
   },
   "outputs": [],
   "source": [
    "path = './data/test/Abyssinian'\n",
    "name = 'Abyssinian_1.jpg'\n",
    "fullname = f'{path}/{name}'\n",
    "img = load_img(fullname, target_size=(150, 150))\n",
    "img"
   ]
  },
  {
   "cell_type": "code",
   "execution_count": null,
   "id": "d988fe45-dbdc-4b78-98c3-ce6e331d61b5",
   "metadata": {
    "tags": []
   },
   "outputs": [],
   "source": [
    "x = np.array(img)\n",
    "X = np.array([x])\n",
    "X.shape"
   ]
  },
  {
   "cell_type": "code",
   "execution_count": null,
   "id": "d62364f6-2e36-45b6-9af9-bc0da79ed753",
   "metadata": {
    "tags": []
   },
   "outputs": [],
   "source": [
    "X = preprocess_input(X)"
   ]
  },
  {
   "cell_type": "code",
   "execution_count": null,
   "id": "a5d09831-0ab3-4335-bcf5-62cb44725db4",
   "metadata": {
    "tags": []
   },
   "outputs": [],
   "source": [
    "pred = model.predict(X)"
   ]
  },
  {
   "cell_type": "code",
   "execution_count": null,
   "id": "ccd2f9fa-d973-43ab-8b7c-afb644f9295a",
   "metadata": {
    "tags": []
   },
   "outputs": [],
   "source": [
    "classes = ['Abyssinian', \n",
    " 'American Bobtail', \n",
    " 'American Curl',\n",
    " 'American Shorthair',\n",
    " 'Bengal',\n",
    " 'Birman',\n",
    " 'Bombay',\n",
    " 'British Shorthair',\n",
    " 'Egyptian Mau',\n",
    " 'Exotic Shorthair',\n",
    " 'Maine Coon',\n",
    " 'Manx',\n",
    " 'Norwegian Forest',\n",
    " 'Persian',\n",
    " 'Ragdoll',\n",
    " 'Russian Blue',\n",
    " 'Scottish Fold',\n",
    " 'Siamese',\n",
    " 'Sphynx',\n",
    " 'Turkish Angora']"
   ]
  },
  {
   "cell_type": "code",
   "execution_count": null,
   "id": "6768134b-5b82-4a6f-b196-c339656d781a",
   "metadata": {
    "tags": []
   },
   "outputs": [],
   "source": [
    "dict(zip(classes, np.round(pred[0], 4)))"
   ]
  },
  {
   "cell_type": "code",
   "execution_count": null,
   "id": "df6fe50b-d4d9-4a45-af2f-bc752fb2506e",
   "metadata": {
    "tags": []
   },
   "outputs": [],
   "source": [
    "print('fin')"
   ]
  },
  {
   "cell_type": "markdown",
   "id": "382be0da-c24a-4bee-9cd0-3545d68c4c1a",
   "metadata": {},
   "source": [
    "***Save model as TF-Lite model***"
   ]
  },
  {
   "cell_type": "code",
   "execution_count": null,
   "id": "428d0629-1fe6-4b00-9503-d1091d1c02ce",
   "metadata": {
    "tags": []
   },
   "outputs": [],
   "source": [
    "model = keras.models.load_model(\"xception_v3_10_0.609.h5\")"
   ]
  },
  {
   "cell_type": "code",
   "execution_count": null,
   "id": "ee999eac-70c2-4f89-832d-b488b1162bf9",
   "metadata": {
    "tags": []
   },
   "outputs": [],
   "source": [
    "!python -V"
   ]
  },
  {
   "cell_type": "code",
   "execution_count": null,
   "id": "14fb596c-b9b6-480c-b3a8-8c688247aaf7",
   "metadata": {
    "tags": []
   },
   "outputs": [],
   "source": [
    "tf.__version__"
   ]
  },
  {
   "cell_type": "code",
   "execution_count": null,
   "id": "b1e1c956-6308-4e0a-868d-4b8dce367405",
   "metadata": {
    "tags": []
   },
   "outputs": [],
   "source": [
    "path = './data/test/Abyssinian'\n",
    "name = 'Abyssinian_1.jpg'\n",
    "fullname = f'{path}/{name}'\n",
    "img = load_img(fullname, target_size=(150, 150))\n",
    "img"
   ]
  },
  {
   "cell_type": "code",
   "execution_count": null,
   "id": "49057166-819f-406f-bd85-7ca4b941c8c3",
   "metadata": {
    "tags": []
   },
   "outputs": [],
   "source": [
    "x = np.array(img)\n",
    "X = np.array([x])\n",
    "X.shape"
   ]
  },
  {
   "cell_type": "code",
   "execution_count": null,
   "id": "303bd427-4722-4a70-b865-e93d1f4be340",
   "metadata": {
    "tags": []
   },
   "outputs": [],
   "source": [
    "X = preprocess_input(X)"
   ]
  },
  {
   "cell_type": "code",
   "execution_count": null,
   "id": "3e72c1a3-16fe-4be0-b012-41b8688366e3",
   "metadata": {
    "tags": []
   },
   "outputs": [],
   "source": [
    "preds = model.predict(X)"
   ]
  },
  {
   "cell_type": "code",
   "execution_count": null,
   "id": "8e541cbe-ccaf-4b39-887c-13cccbbcfb8e",
   "metadata": {
    "tags": []
   },
   "outputs": [],
   "source": [
    "classes = ['Abyssinian', \n",
    " 'American Bobtail', \n",
    " 'American Curl',\n",
    " 'American Shorthair',\n",
    " 'Bengal',\n",
    " 'Birman',\n",
    " 'Bombay',\n",
    " 'British Shorthair',\n",
    " 'Egyptian Mau',\n",
    " 'Exotic Shorthair',\n",
    " 'Maine Coon',\n",
    " 'Manx',\n",
    " 'Norwegian Forest',\n",
    " 'Persian',\n",
    " 'Ragdoll',\n",
    " 'Russian Blue',\n",
    " 'Scottish Fold',\n",
    " 'Siamese',\n",
    " 'Sphynx',\n",
    " 'Turkish Angora']"
   ]
  },
  {
   "cell_type": "code",
   "execution_count": null,
   "id": "aff87c04-0c8f-4f16-97c5-027524d975b9",
   "metadata": {
    "tags": []
   },
   "outputs": [],
   "source": [
    "dict(zip(classes, np.round(pred[0], 4)))"
   ]
  },
  {
   "cell_type": "code",
   "execution_count": null,
   "id": "ef5c2dd9-ce0a-42e8-803b-bd4c72c6de2b",
   "metadata": {
    "tags": []
   },
   "outputs": [],
   "source": [
    "converter = tf.lite.TFLiteConverter.from_keras_model(model)\n",
    "\n",
    "tflite_model = converter.convert()\n",
    "\n",
    "with open('catbreeds-model.tflite', 'wb') as f_out:\n",
    "    f_out.write(tflite_model)"
   ]
  },
  {
   "cell_type": "code",
   "execution_count": null,
   "id": "d313500c-b4a8-4cfa-bf48-9dee133ea111",
   "metadata": {
    "tags": []
   },
   "outputs": [],
   "source": [
    "# !pip install --extra-index-url https://google-coral.github.io/py-repo/ tflite_runtime"
   ]
  },
  {
   "cell_type": "code",
   "execution_count": 11,
   "id": "e8cb373d-03ed-479b-9a34-082c8a1a492d",
   "metadata": {
    "execution": {
     "iopub.execute_input": "2024-01-16T22:51:58.113473Z",
     "iopub.status.busy": "2024-01-16T22:51:58.113077Z",
     "iopub.status.idle": "2024-01-16T22:52:01.876484Z",
     "shell.execute_reply": "2024-01-16T22:52:01.875407Z",
     "shell.execute_reply.started": "2024-01-16T22:51:58.113448Z"
    },
    "tags": []
   },
   "outputs": [
    {
     "name": "stdout",
     "output_type": "stream",
     "text": [
      "Requirement already satisfied: pip in /opt/conda/envs/saturn/lib/python3.9/site-packages (21.2.4)\n",
      "Collecting pip\n",
      "  Downloading pip-23.3.2-py3-none-any.whl (2.1 MB)\n",
      "\u001b[K     |████████████████████████████████| 2.1 MB 3.6 MB/s eta 0:00:01\n",
      "\u001b[?25hInstalling collected packages: pip\n",
      "  Attempting uninstall: pip\n",
      "    Found existing installation: pip 21.2.4\n",
      "    Uninstalling pip-21.2.4:\n",
      "      Successfully uninstalled pip-21.2.4\n",
      "Successfully installed pip-23.3.2\n",
      "Note: you may need to restart the kernel to use updated packages.\n"
     ]
    }
   ],
   "source": [
    "pip install --upgrade pip"
   ]
  },
  {
   "cell_type": "code",
   "execution_count": null,
   "id": "6b4a3af9-6ea5-4fac-8875-adca9f8e3034",
   "metadata": {
    "execution": {
     "iopub.execute_input": "2024-01-17T01:28:28.396056Z",
     "iopub.status.busy": "2024-01-17T01:28:28.395659Z"
    },
    "tags": []
   },
   "outputs": [
    {
     "name": "stdout",
     "output_type": "stream",
     "text": [
      "Collecting absl-py==0.10\n",
      "  Downloading absl_py-0.10.0-py3-none-any.whl (127 kB)\n",
      "\u001b[K     |████████████████████████████████| 127 kB 3.9 MB/s eta 0:00:01\n",
      "\u001b[?25hRequirement already satisfied: six in /opt/conda/envs/saturn/lib/python3.9/site-packages (from absl-py==0.10) (1.16.0)\n",
      "Installing collected packages: absl-py\n",
      "  Attempting uninstall: absl-py\n",
      "    Found existing installation: absl-py 1.0.0\n",
      "    Uninstalling absl-py-1.0.0:\n",
      "      Successfully uninstalled absl-py-1.0.0\n",
      "\u001b[31mERROR: pip's dependency resolver does not currently take into account all the packages that are installed. This behaviour is the source of the following dependency conflicts.\n",
      "tensorflow 2.4.1 requires flatbuffers~=1.12.0, but you have flatbuffers 2.0 which is incompatible.\n",
      "tensorflow 2.4.1 requires gast==0.3.3, but you have gast 0.4.0 which is incompatible.\n",
      "tensorflow 2.4.1 requires grpcio~=1.32.0, but you have grpcio 1.46.1 which is incompatible.\n",
      "tensorflow 2.4.1 requires numpy~=1.19.2, but you have numpy 1.26.3 which is incompatible.\n",
      "tensorflow 2.4.1 requires six~=1.15.0, but you have six 1.16.0 which is incompatible.\n",
      "tensorflow 2.4.1 requires tensorflow-estimator<2.5.0,>=2.4.0, but you have tensorflow-estimator 2.6.0 which is incompatible.\n",
      "tensorflow 2.4.1 requires typing-extensions~=3.7.4, but you have typing-extensions 4.2.0 which is incompatible.\n",
      "tensorflow 2.4.1 requires wrapt~=1.12.1, but you have wrapt 1.14.1 which is incompatible.\u001b[0m\n",
      "Successfully installed absl-py-0.10.0\n",
      "Found existing installation: numpy 1.26.3\n",
      "Uninstalling numpy-1.26.3:\n",
      "  Would remove:\n",
      "    /opt/conda/envs/saturn/bin/f2py\n",
      "    /opt/conda/envs/saturn/lib/python3.9/site-packages/numpy-1.26.3.dist-info/*\n",
      "    /opt/conda/envs/saturn/lib/python3.9/site-packages/numpy.libs/libgfortran-040039e1.so.5.0.0\n",
      "    /opt/conda/envs/saturn/lib/python3.9/site-packages/numpy.libs/libopenblas64_p-r0-0cf96a72.3.23.dev.so\n",
      "    /opt/conda/envs/saturn/lib/python3.9/site-packages/numpy.libs/libquadmath-96973f99.so.0.0.0\n",
      "    /opt/conda/envs/saturn/lib/python3.9/site-packages/numpy/*\n",
      "Proceed (Y/n)? "
     ]
    }
   ],
   "source": [
    "!pip install absl-py==0.10 \n",
    "# !pip install flatbuffers==1.12.0 \n",
    "# !pip install gast==0.3.3 \n",
    "# !pip install grpcio==1.32.0 \n",
    "!pip uninstall numpy==1.19.2 \n",
    "##  !pip install numpy==1.19.2 \n",
    "# !pip install six==1.15.0 \n",
    "# !pip install tensorflow-estimator==2.4.0 typing-extensions==3.7.4 wrapt==1.12.1"
   ]
  },
  {
   "cell_type": "code",
   "execution_count": null,
   "id": "d6cdc5f2-dd9c-4f47-818e-431eb6199110",
   "metadata": {
    "tags": []
   },
   "outputs": [],
   "source": [
    "!pip install tflite-runtime"
   ]
  },
  {
   "cell_type": "code",
   "execution_count": 1,
   "id": "6cd9aa34-d1d7-493d-9b4b-bc5e549a693e",
   "metadata": {
    "execution": {
     "iopub.execute_input": "2024-01-17T01:30:32.772512Z",
     "iopub.status.busy": "2024-01-17T01:30:32.772077Z",
     "iopub.status.idle": "2024-01-17T01:30:32.951204Z",
     "shell.execute_reply": "2024-01-17T01:30:32.950049Z",
     "shell.execute_reply.started": "2024-01-17T01:30:32.772434Z"
    },
    "tags": []
   },
   "outputs": [
    {
     "ename": "ImportError",
     "evalue": "/lib/x86_64-linux-gnu/libm.so.6: version `GLIBC_2.29' not found (required by /srv/conda/envs/saturn/lib/python3.9/site-packages/tflite_runtime/_pywrap_tensorflow_interpreter_wrapper.so)",
     "output_type": "error",
     "traceback": [
      "\u001b[0;31m---------------------------------------------------------------------------\u001b[0m",
      "\u001b[0;31mImportError\u001b[0m                               Traceback (most recent call last)",
      "\u001b[0;32m/tmp/ipykernel_539/2965348308.py\u001b[0m in \u001b[0;36m<cell line: 2>\u001b[0;34m()\u001b[0m\n\u001b[1;32m      1\u001b[0m \u001b[0;31m# import tensorflow.lite as tflite\u001b[0m\u001b[0;34m\u001b[0m\u001b[0;34m\u001b[0m\u001b[0m\n\u001b[0;32m----> 2\u001b[0;31m \u001b[0;32mimport\u001b[0m \u001b[0mtflite_runtime\u001b[0m\u001b[0;34m.\u001b[0m\u001b[0minterpreter\u001b[0m \u001b[0;32mas\u001b[0m \u001b[0mtflite\u001b[0m\u001b[0;34m\u001b[0m\u001b[0;34m\u001b[0m\u001b[0m\n\u001b[0m",
      "\u001b[0;32m/srv/conda/envs/saturn/lib/python3.9/site-packages/tflite_runtime/interpreter.py\u001b[0m in \u001b[0;36m<module>\u001b[0;34m\u001b[0m\n\u001b[1;32m     31\u001b[0m \u001b[0;32melse\u001b[0m\u001b[0;34m:\u001b[0m\u001b[0;34m\u001b[0m\u001b[0;34m\u001b[0m\u001b[0m\n\u001b[1;32m     32\u001b[0m   \u001b[0;31m# This file is part of tflite_runtime package.\u001b[0m\u001b[0;34m\u001b[0m\u001b[0;34m\u001b[0m\u001b[0m\n\u001b[0;32m---> 33\u001b[0;31m   \u001b[0;32mfrom\u001b[0m \u001b[0mtflite_runtime\u001b[0m \u001b[0;32mimport\u001b[0m \u001b[0m_pywrap_tensorflow_interpreter_wrapper\u001b[0m \u001b[0;32mas\u001b[0m \u001b[0m_interpreter_wrapper\u001b[0m\u001b[0;34m\u001b[0m\u001b[0;34m\u001b[0m\u001b[0m\n\u001b[0m\u001b[1;32m     34\u001b[0m   \u001b[0;32mfrom\u001b[0m \u001b[0mtflite_runtime\u001b[0m \u001b[0;32mimport\u001b[0m \u001b[0mmetrics_portable\u001b[0m \u001b[0;32mas\u001b[0m \u001b[0mmetrics\u001b[0m\u001b[0;34m\u001b[0m\u001b[0;34m\u001b[0m\u001b[0m\n\u001b[1;32m     35\u001b[0m \u001b[0;34m\u001b[0m\u001b[0m\n",
      "\u001b[0;31mImportError\u001b[0m: /lib/x86_64-linux-gnu/libm.so.6: version `GLIBC_2.29' not found (required by /srv/conda/envs/saturn/lib/python3.9/site-packages/tflite_runtime/_pywrap_tensorflow_interpreter_wrapper.so)"
     ]
    }
   ],
   "source": [
    "# import tensorflow.lite as tflite\n",
    "import tflite_runtime.interpreter as tflite"
   ]
  },
  {
   "cell_type": "code",
   "execution_count": null,
   "id": "1aed864a-673a-4860-8e99-0bfe8b416023",
   "metadata": {
    "tags": []
   },
   "outputs": [],
   "source": [
    "interpreter = tflite.Interpreter(model_path='catbreeds-model.tflite')\n",
    "interpreter.allocate_tensors()\n",
    "\n",
    "input_index = interpreter.get_input_details()[0]['index']\n",
    "output_index = interpreter.get_output_details()[0]['index']"
   ]
  },
  {
   "cell_type": "code",
   "execution_count": null,
   "id": "947edd4d-ac2e-456a-8604-4ed41e1ae9e1",
   "metadata": {
    "tags": []
   },
   "outputs": [],
   "source": [
    "interpreter.set_tensor(input_index, X)\n",
    "interpreter.invoke()\n",
    "preds = interpreter.get_tensor(output_index)"
   ]
  },
  {
   "cell_type": "code",
   "execution_count": null,
   "id": "35679c28-c27e-4c59-8527-c499f280659b",
   "metadata": {
    "tags": []
   },
   "outputs": [],
   "source": [
    "classes = ['Abyssinian', \n",
    " 'American Bobtail', \n",
    " 'American Curl',\n",
    " 'American Shorthair',\n",
    " 'Bengal',\n",
    " 'Birman',\n",
    " 'Bombay',\n",
    " 'British Shorthair',\n",
    " 'Egyptian Mau',\n",
    " 'Exotic Shorthair',\n",
    " 'Maine Coon',\n",
    " 'Manx',\n",
    " 'Norwegian Forest',\n",
    " 'Persian',\n",
    " 'Ragdoll',\n",
    " 'Russian Blue',\n",
    " 'Scottish Fold',\n",
    " 'Siamese',\n",
    " 'Sphynx',\n",
    " 'Turkish Angora']\n",
    "\n",
    "dict(zip(classes, np.round(pred[0], 4)))"
   ]
  },
  {
   "cell_type": "markdown",
   "id": "a69483ac-36a7-4043-8f17-ddeb6fb31d0b",
   "metadata": {},
   "source": [
    "***Remove TF dependency***"
   ]
  },
  {
   "cell_type": "code",
   "execution_count": null,
   "id": "98bf4ff0-868d-42b7-94ee-4f7c98a32edb",
   "metadata": {
    "tags": []
   },
   "outputs": [],
   "source": [
    "from PIL import Image"
   ]
  },
  {
   "cell_type": "code",
   "execution_count": null,
   "id": "959aa00b-3655-48d1-abcf-430f3e482b4a",
   "metadata": {
    "tags": []
   },
   "outputs": [],
   "source": [
    "with Image.open(fullname) as img:\n",
    "    img = img.resize((150, 150), Image.NEAREST)"
   ]
  },
  {
   "cell_type": "code",
   "execution_count": null,
   "id": "7510367d-b27b-4f3d-9868-d8cb7465099b",
   "metadata": {
    "tags": []
   },
   "outputs": [],
   "source": [
    "def preprocess_input(x):\n",
    "    x /= 127.5\n",
    "    x -= 1.\n",
    "    return x"
   ]
  },
  {
   "cell_type": "code",
   "execution_count": null,
   "id": "04f020ee-6313-4090-9cca-f9dc19543d54",
   "metadata": {
    "tags": []
   },
   "outputs": [],
   "source": [
    "x = np.array(img, dtype='float32')\n",
    "X = np.array([x])\n",
    "\n",
    "X = preprocess_input(X)"
   ]
  },
  {
   "cell_type": "code",
   "execution_count": null,
   "id": "c35b299f-ccd4-400e-aae2-3cd27d5769be",
   "metadata": {
    "tags": []
   },
   "outputs": [],
   "source": [
    "interpreter.set_tensor(input_index, X)\n",
    "interpreter.invoke()\n",
    "preds = interpreter.get_tensor(output_index)"
   ]
  },
  {
   "cell_type": "code",
   "execution_count": null,
   "id": "1470b790-1d7f-42f8-985d-9855b9123a0a",
   "metadata": {
    "tags": []
   },
   "outputs": [],
   "source": [
    "classes = ['Abyssinian', \n",
    " 'American Bobtail', \n",
    " 'American Curl',\n",
    " 'American Shorthair',\n",
    " 'Bengal',\n",
    " 'Birman',\n",
    " 'Bombay',\n",
    " 'British Shorthair',\n",
    " 'Egyptian Mau',\n",
    " 'Exotic Shorthair',\n",
    " 'Maine Coon',\n",
    " 'Manx',\n",
    " 'Norwegian Forest',\n",
    " 'Persian',\n",
    " 'Ragdoll',\n",
    " 'Russian Blue',\n",
    " 'Scottish Fold',\n",
    " 'Siamese',\n",
    " 'Sphynx',\n",
    " 'Turkish Angora']\n",
    "\n",
    "dict(zip(classes, np.round(pred[0], 4)))"
   ]
  },
  {
   "cell_type": "markdown",
   "id": "c52f3f42",
   "metadata": {},
   "source": [
    "## Evaluate"
   ]
  },
  {
   "cell_type": "markdown",
   "id": "a186c38c",
   "metadata": {},
   "source": [
    "# Communicate the Results"
   ]
  }
 ],
 "metadata": {
  "kernelspec": {
   "display_name": "saturn (Python 3)",
   "language": "python",
   "name": "python3"
  },
  "language_info": {
   "codemirror_mode": {
    "name": "ipython",
    "version": 3
   },
   "file_extension": ".py",
   "mimetype": "text/x-python",
   "name": "python",
   "nbconvert_exporter": "python",
   "pygments_lexer": "ipython3",
   "version": "3.9.7"
  }
 },
 "nbformat": 4,
 "nbformat_minor": 5
}
